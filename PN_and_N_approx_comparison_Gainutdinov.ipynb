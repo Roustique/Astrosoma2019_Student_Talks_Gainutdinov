{
 "cells": [
  {
   "cell_type": "markdown",
   "metadata": {
    "slideshow": {
     "slide_type": "slide"
    }
   },
   "source": [
    "## Post-Newtonian approximation vs Newtonian gravitation (with pics!)\n",
    "\n",
    "### Rustam Gainutdinov\n",
    "\n",
    "### Saint Petersburg University\n",
    "\n",
    "### email: roustique.g@gmail.com"
   ]
  },
  {
   "cell_type": "markdown",
   "metadata": {
    "slideshow": {
     "slide_type": "slide"
    }
   },
   "source": [
    "## What are Post-Newtonian approximations?\n",
    "\n",
    "Consider the equations of GR being expanded by the small parameter of $\\frac{v^2}{c^2}$. These expansions are called Post-Newtonian approximations. They are used to find solutions of Einstein's equation numerically in the case of weak fields. High orders can be used to increase accuracy, but we will consider only first order of approximation.\n",
    "The topic of my work is to compare Newtonian and Post-Newtonian cases by simulations of a probe body orbiting around the Massive second body (with mass $M$)."
   ]
  },
  {
   "cell_type": "markdown",
   "metadata": {
    "slideshow": {
     "slide_type": "slide"
    }
   },
   "source": [
    "## The equations of motion\n",
    "\n",
    "I bet the audience is familiar with Newtonian equation of motion: <br/><br/>\n",
    "$$\\ddot{\\mathbf{x}} = - \\frac{GM}{r^3}\\mathbf{x}$$ <br/>\n",
    "As for Post-Newtonian case, the equation is below: <br/><br/>\n",
    "$$\\ddot{\\mathbf{x}} = - \\frac{GM}{r^3}\\mathbf{x} \\bigg( 1 - \\frac{4GM}{c^2r} + \\frac{\\mathbf{v}^2}{c^2}\\bigg) + \\frac{4GM}{r^3} \\bigg( \\frac{\\mathbf{v}}{c} \\cdot \\mathbf{x} \\bigg)\\frac{\\mathbf{v}}{c}$$ <br/>\n",
    "(Further i will assume $c=1$)."
   ]
  },
  {
   "cell_type": "markdown",
   "metadata": {
    "slideshow": {
     "slide_type": "slide"
    }
   },
   "source": [
    "## The equations of motion in terms of Newtonian potential\n",
    "\n",
    "Let us define Newtonian potential $\\varphi = -\\dfrac{GM}{r}$. Then, we can rewrite the equations: <br/>\n",
    "Newtonian case: <br/><br/>\n",
    "$$\\ddot{\\mathbf{x}} = - \\nabla\\varphi$$ <br/>\n",
    "Post-Newtonian case: <br/><br/>\n",
    "$$\\ddot{\\mathbf{x}} = - \\nabla\\varphi \\big( 1 + {4\\varphi} + {\\mathbf{v}^2}\\big) + 4 \\big( {\\mathbf{v}} \\cdot \\nabla\\varphi \\big){\\mathbf{v}}$$ <br/>\n",
    "I have used 4-order Runge-Kutta method to integrate these equations numerically with different initial conditions to see the difference between them. I want to share the results I got with you."
   ]
  },
  {
   "cell_type": "markdown",
   "metadata": {
    "slideshow": {
     "slide_type": "slide"
    }
   },
   "source": [
    "## Simulations: 1) Pericenter at 5000 km, eccentricity of 0\n",
    "<p>\n",
    "<img width=1100 src=\"PN_and_N_approx_comparison_Gainutdinov_pics/output/peri5000e0/OrbitNP.png\" align=\"right\">\n",
    "Central body has a mass of Solar mass twiced (that's for every case). There are actually two different orbits on this plot.\n",
    "The black one is for Newtonian case, and the red one is for Post-Newtonian. But the difference here is not so big, so this plots have overlaid each other.\n",
    "</p>"
   ]
  },
  {
   "cell_type": "markdown",
   "metadata": {
    "slideshow": {
     "slide_type": "slide"
    }
   },
   "source": [
    "## Simulations: 2) Pericenter at 5000 km, eccentricity of 0.1\n",
    "<center>\n",
    "<img width=1100 src=\"PN_and_N_approx_comparison_Gainutdinov_pics/output/peri5000e01/OrbitNP.png\"></img>\n",
    "</center>"
   ]
  },
  {
   "cell_type": "markdown",
   "metadata": {
    "slideshow": {
     "slide_type": "slide"
    }
   },
   "source": [
    "## Simulations: 2) Pericenter at 5000 km, eccentricity of 0.6\n",
    "<p>\n",
    "<img width=1100 src=\"PN_and_N_approx_comparison_Gainutdinov_pics/output/peri5000e06/OrbitNP.png\" align=\"right\">\n",
    "In this case we can see that Post-Newtonian orbit is a bit bigger.\n",
    "</p>"
   ]
  },
  {
   "cell_type": "markdown",
   "metadata": {
    "slideshow": {
     "slide_type": "slide"
    }
   },
   "source": [
    "## Simulations: 2) Pericenter at 5000 km, eccentricity of 0.6\n",
    "<p>\n",
    "<img width=1100 src=\"PN_and_N_approx_comparison_Gainutdinov_pics/output/peri5000e06/vx-tNP.png\" align=\"right\">\n",
    "Here are the velocity plots, from where we can clearly see the difference between Newtonian and Post-Newtonian cases.\n",
    "</p>"
   ]
  },
  {
   "cell_type": "markdown",
   "metadata": {
    "slideshow": {
     "slide_type": "slide"
    }
   },
   "source": [
    "## Simulations: 2) Pericenter at 5000 km, eccentricity of 0.6\n",
    "<center>\n",
    "<img width=1100 src=\"PN_and_N_approx_comparison_Gainutdinov_pics/output/peri5000e06/vy-tNP.png\"></img>\n",
    "</center>"
   ]
  },
  {
   "cell_type": "markdown",
   "metadata": {
    "slideshow": {
     "slide_type": "slide"
    }
   },
   "source": [
    "## Simulations: 2) Pericenter at 200 km, eccentricity of 0\n",
    "<p>\n",
    "<img width=1100 src=\"PN_and_N_approx_comparison_Gainutdinov_pics/output/peri200e0/OrbitNP.png\" align=\"right\">\n",
    "The same initial conditions gave us circular orbit in Newtonian case, while in Post-Newtonian the eccentricity is 0.051. The major semi-axis is increased in Post-Newtonian case.\n",
    "</p>"
   ]
  },
  {
   "cell_type": "markdown",
   "metadata": {
    "slideshow": {
     "slide_type": "slide"
    }
   },
   "source": [
    "## Simulations: 2) Pericenter at 200 km, eccentricity of 0\n",
    "<p>\n",
    "<img width=1100 src=\"PN_and_N_approx_comparison_Gainutdinov_pics/output/peri200e0/domegaP.png\" align=\"right\">\n",
    "Pericenter argument grows linearly. Precession rate is 6.753 radians per second, which is bigger than 1 turn per second.\n",
    "</p>"
   ]
  },
  {
   "cell_type": "markdown",
   "metadata": {
    "slideshow": {
     "slide_type": "slide"
    }
   },
   "source": [
    "## Simulations: 2) Pericenter at 200 km, eccentricity of 0\n",
    "<center>\n",
    "<img width=1100 src=\"PN_and_N_approx_comparison_Gainutdinov_pics/output/peri200e0/vy-tNP.png\"></img>\n",
    "</center>"
   ]
  },
  {
   "cell_type": "markdown",
   "metadata": {
    "slideshow": {
     "slide_type": "slide"
    }
   },
   "source": [
    "## Simulations: 2) Pericenter at 200 km, eccentricity of 0.1\n",
    "<p>\n",
    "<img width=1100 src=\"PN_and_N_approx_comparison_Gainutdinov_pics/output/peri200e01/OrbitNP.png\" align=\"right\">\n",
    "The eccentricity in Post-Newtonian case here is 0.16, which is much bigger than 0.1, which is the eccentricity in Newtonian case. Here we can also see that major semi-axis increased in Post-Newtonian approximation.\n",
    "</p>"
   ]
  },
  {
   "cell_type": "markdown",
   "metadata": {
    "slideshow": {
     "slide_type": "slide"
    }
   },
   "source": [
    "## Simulations: 2) Pericenter at 200 km, eccentricity of 0.1\n",
    "<p>\n",
    "<img width=1100 src=\"PN_and_N_approx_comparison_Gainutdinov_pics/output/peri200e01/domegaP.png\" align=\"right\">\n",
    "Here we also obtained linear growth of pericenter argument. The Precession rate is 5.081 radians per second.\n",
    "</p>"
   ]
  },
  {
   "cell_type": "markdown",
   "metadata": {
    "slideshow": {
     "slide_type": "slide"
    }
   },
   "source": [
    "## Simulations: 2) Pericenter at 200 km, eccentricity of 0.1\n",
    "<center>\n",
    "<img width=1100 src=\"PN_and_N_approx_comparison_Gainutdinov_pics/output/peri200e01/vy-tNP.png\"></img>\n",
    "</center>"
   ]
  },
  {
   "cell_type": "markdown",
   "metadata": {
    "slideshow": {
     "slide_type": "slide"
    }
   },
   "source": [
    "## Simulations: 2) Pericenter at 200 km, eccentricity of 0.6\n",
    "<p>\n",
    "<img width=1100 src=\"PN_and_N_approx_comparison_Gainutdinov_pics/output/peri200e06/OrbitNP.png\" align=\"right\">\n",
    "From here we can see that the difference is huge. Eccentricity increased from 0.6 in Newtonian case to 0.72 in Post-Newtonian. On this picture we can clearly see the precession.\n",
    "</p>"
   ]
  },
  {
   "cell_type": "markdown",
   "metadata": {
    "slideshow": {
     "slide_type": "slide"
    }
   },
   "source": [
    "## Simulations: 2) Pericenter at 200 km, eccentricity of 0.6\n",
    "<p>\n",
    "<img width=1100 src=\"PN_and_N_approx_comparison_Gainutdinov_pics/output/peri200e0/domegaP.png\" align=\"right\">\n",
    "Here Precession rate is 0.694 radians per second. We can see that precession in this case is smaller than before.\n",
    "</p>\n"
   ]
  },
  {
   "cell_type": "markdown",
   "metadata": {
    "slideshow": {
     "slide_type": "slide"
    }
   },
   "source": [
    "## Simulations: 2) Pericenter at 200 km, eccentricity of 0.6\n",
    "<p>\n",
    "<img width=1100 src=\"PN_and_N_approx_comparison_Gainutdinov_pics/output/peri200e06/vx-tNP.png\" align=\"right\">\n",
    "Now we can see that Newtonian and Post-Newtonian cases are so diverging that they made different amounts of orbital turns. In Newtonian case there are 7 turns, while in Post-Newtonian there are only 4 of them. For this moment, this picture of two velocity plots overlay is a bit messy and hard to watch, so from now on, we will only consider Post-Newtonian velocity plots.\n",
    "</p>"
   ]
  },
  {
   "cell_type": "markdown",
   "metadata": {
    "slideshow": {
     "slide_type": "slide"
    }
   },
   "source": [
    "## Simulations: 2) Pericenter at 200 km, eccentricity of 0.6\n",
    "<p>\n",
    "<img width=1100 src=\"PN_and_N_approx_comparison_Gainutdinov_pics/output/peri200e06/vx-tP.png\" align=\"right\">\n",
    "This velocity plots also show us the precession: The peaks of velocity in x-axis projection are becoming more edgy.\n",
    "</p>"
   ]
  },
  {
   "cell_type": "markdown",
   "metadata": {
    "slideshow": {
     "slide_type": "slide"
    }
   },
   "source": [
    "## Simulations: 2) Pericenter at 200 km, eccentricity of 0.6\n",
    "<p>\n",
    "<img width=1100 src=\"PN_and_N_approx_comparison_Gainutdinov_pics/output/peri200e06/vy-tP.png\" align=\"right\">\n",
    "While peaks in y-axis projection are becoming smoother.\n",
    "</p>"
   ]
  },
  {
   "cell_type": "markdown",
   "metadata": {
    "slideshow": {
     "slide_type": "slide"
    }
   },
   "source": [
    "## Simulations: 3) Pericenter at 90 km, eccentricity of 0\n",
    "<p>\n",
    "<img width=1100 src=\"PN_and_N_approx_comparison_Gainutdinov_pics/output/peri90e0/OrbitNP.png\" align=\"right\">\n",
    "Now, as we went deeper, the first order Post-Newtonian approximation is becoming less accurate, because the field here is becoming stronger. We can also see that Post-Newtonian orbit is not circular and has eccentricity of 0.13.\n",
    "</p>"
   ]
  },
  {
   "cell_type": "markdown",
   "metadata": {
    "slideshow": {
     "slide_type": "slide"
    }
   },
   "source": [
    "## Simulations: 3) Pericenter at 90 km, eccentricity of 0\n",
    "<p>\n",
    "<img width=1100 src=\"PN_and_N_approx_comparison_Gainutdinov_pics/output/peri90e0/domegaP.png\" align=\"right\">\n",
    "Here we can also see linear growth. Precession rate is above 6 turns per second (!).\n",
    "</p>"
   ]
  },
  {
   "cell_type": "markdown",
   "metadata": {
    "slideshow": {
     "slide_type": "slide"
    }
   },
   "source": [
    "## Simulations: 3) Pericenter at 90 km, eccentricity of 0.1\n",
    "<p>\n",
    "<img width=1100 src=\"PN_and_N_approx_comparison_Gainutdinov_pics/output/peri90e01/OrbitNP.png\" align=\"right\">\n",
    "Post-Newtonian case gave us the eccentricity of 0.26.\n",
    "</p>"
   ]
  },
  {
   "cell_type": "markdown",
   "metadata": {
    "slideshow": {
     "slide_type": "slide"
    }
   },
   "source": [
    "## Simulations: 3) Pericenter at 90 km, eccentricity of 0.1\n",
    "<p>\n",
    "<img width=1100 src=\"PN_and_N_approx_comparison_Gainutdinov_pics/output/peri90e01/domegaP.png\" align=\"right\">\n",
    "We have got the same here. Linear growth. Precession rate is above 4 turns per second.\n",
    "</p>"
   ]
  },
  {
   "cell_type": "markdown",
   "metadata": {
    "slideshow": {
     "slide_type": "slide"
    }
   },
   "source": [
    "## Simulations: 3) Pericenter at 90 km, eccentricity of 0.6\n",
    "<p>\n",
    "<img width=1100 src=\"PN_and_N_approx_comparison_Gainutdinov_pics/output/peri90e06/OrbitNP.png\" align=\"right\">\n",
    "Here we can see that the dfference is really huge. Post-Newtonian approximation lead us to 0.9 eccentricity orbit. Major semi-axis is increased by a factor of more than 3.\n",
    "Precession here is also linear with a rate of 0.18 radians per second.\n",
    "</p>"
   ]
  },
  {
   "cell_type": "markdown",
   "metadata": {
    "slideshow": {
     "slide_type": "slide"
    }
   },
   "source": [
    "## Simulations: 3) Pericenter at 90 km, eccentricity of 0.6\n",
    "<p>\n",
    "<img width=1100 src=\"PN_and_N_approx_comparison_Gainutdinov_pics/output/peri90e06/vx-tP.png\" align=\"right\">\n",
    "The velocity plots in this case also have that effect, that shows precession. Smooth peaks on x-axis projection plot become more edgy.\n",
    "</p>"
   ]
  },
  {
   "cell_type": "markdown",
   "metadata": {
    "slideshow": {
     "slide_type": "slide"
    }
   },
   "source": [
    "## Simulations: 3) Pericenter at 90 km, eccentricity of 0.6\n",
    "<p>\n",
    "<img width=1100 src=\"PN_and_N_approx_comparison_Gainutdinov_pics/output/peri90e06/vy-tP.png\" align=\"right\">\n",
    "While edgy peaks on y-axis projection plot become more rounded.\n",
    "</p>"
   ]
  },
  {
   "cell_type": "markdown",
   "metadata": {
    "slideshow": {
     "slide_type": "slide"
    }
   },
   "source": [
    "## The Conclusion\n",
    "\n",
    "The question is, what figures are our orbits? Are they precessing ellipses or, maybe, another elliptic-looking figures?\n",
    "There is a <a href=\"http://www.ihes.fr/~damour/Conferences/DamourDeruelleAIHP85.pdf\">paper on Post-Newtonian 2-body problem by T. Damour and N. Deruelle</a>, that says that the trajectory of body in Post-Newtonian 2-body problem is actually a *conchoid of precessing ellipse*, where precession has constant rate.\n",
    "In our case the central body is massive, while probe body is massless. If we apply this limitation to formulas from the paper above, we can obtain that conchoidal parameter is equal to zero, so  our orbits are not *conchoids*, they are just *precessing ellipses*. If we compensate the precession in polar coordinates, our orbits will become ellipses. That's how I measured eccentricities of Post-Newtonian orbits. I approximated them with ellipses in \"coprecessing\" polar coordinates.\n",
    "Also, the theory predicts that precession has constant rate. That's what we have seen on our plots: The pericenter argument has linear growth."
   ]
  }
 ],
 "metadata": {
  "celltoolbar": "Slideshow",
  "kernelspec": {
   "display_name": "Python 3",
   "language": "python",
   "name": "python3"
  },
  "language_info": {
   "codemirror_mode": {
    "name": "ipython",
    "version": 3
   },
   "file_extension": ".py",
   "mimetype": "text/x-python",
   "name": "python",
   "nbconvert_exporter": "python",
   "pygments_lexer": "ipython3",
   "version": "3.7.2"
  }
 },
 "nbformat": 4,
 "nbformat_minor": 4
}
